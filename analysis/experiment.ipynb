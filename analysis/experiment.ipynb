{
 "cells": [
  {
   "cell_type": "markdown",
   "metadata": {},
   "source": [
    "# Experiment Notebook\n",
    "Notebook to inspect the results of a single experiment"
   ]
  },
  {
   "cell_type": "code",
   "execution_count": null,
   "metadata": {},
   "outputs": [],
   "source": [
    "import pandas as pd\n",
    "import graphviz\n",
    "import typing\n",
    "import pprint\n",
    "import matplotlib.pyplot as plt\n",
    "\n",
    "from collections import defaultdict\n",
    "\n",
    "\n",
    "from lib.metrics import *\n",
    "from lib.message import *\n",
    "from lib.analysis import *\n",
    "from lib.experiment import PubSubExperiment, PubSubExperimentResults\n",
    "\n",
    "EXPERIMENT = \"experiments/gossipsub-quick.json\"\n"
   ]
  },
  {
   "cell_type": "code",
   "execution_count": null,
   "metadata": {},
   "outputs": [],
   "source": [
    "experiment_results = PubSubExperimentResults.load_from_file(EXPERIMENT)\n",
    "exp = (\n",
    "    KadPubSubAnalyzer.from_experiment_results(experiment_results)\n",
    "    if \"kad\" in EXPERIMENT\n",
    "    else PubSubAnalyzer.from_experiment_results(experiment_results)\n",
    ")\n",
    "pprint.pprint(exp.experiment)\n"
   ]
  },
  {
   "cell_type": "code",
   "execution_count": null,
   "metadata": {},
   "outputs": [],
   "source": [
    "exp.reliability().resample(\"1s\").mean().fillna(method='bfill').plot(title=\"Reliability\")\n"
   ]
  },
  {
   "cell_type": "code",
   "execution_count": null,
   "metadata": {},
   "outputs": [],
   "source": [
    "exp.publish_latency().plot(kind=\"hist\", title=\"Publish Latencies\")\n"
   ]
  },
  {
   "cell_type": "code",
   "execution_count": null,
   "metadata": {},
   "outputs": [],
   "source": [
    "print(f\"Redundancy: {exp.redundancy()}\")\n"
   ]
  },
  {
   "cell_type": "code",
   "execution_count": null,
   "metadata": {},
   "outputs": [],
   "source": [
    "print(f\"Network usefullness fraction: {exp.network_usage_usefullness_fraction()}\")\n"
   ]
  },
  {
   "cell_type": "code",
   "execution_count": null,
   "metadata": {},
   "outputs": [],
   "source": [
    "# Graph of message with reliability 1\n",
    "graph = None\n",
    "try:\n",
    "    reliability_1 = [k for k, v in exp.messages_reliability().items() if v == 1][0]\n",
    "    graph = exp.message_graph(reliability_1)\n",
    "except IndexError:\n",
    "    print(\"No message with reliability 1\")\n",
    "graph"
   ]
  },
  {
   "cell_type": "code",
   "execution_count": null,
   "metadata": {},
   "outputs": [],
   "source": [
    "# Graph of message with reliability < 1\n",
    "graph = None\n",
    "try:\n",
    "    reliability_1 = [k for k, v in exp.messages_reliability().items() if v < 1][5]\n",
    "    graph = exp.message_graph(reliability_1)\n",
    "except IndexError:\n",
    "    print(\"No message with reliability < 1\")\n",
    "graph\n"
   ]
  }
 ],
 "metadata": {
  "kernelspec": {
   "display_name": "Python 3.11.0rc2 64-bit",
   "language": "python",
   "name": "python3"
  },
  "language_info": {
   "codemirror_mode": {
    "name": "ipython",
    "version": 3
   },
   "file_extension": ".py",
   "mimetype": "text/x-python",
   "name": "python",
   "nbconvert_exporter": "python",
   "pygments_lexer": "ipython3",
   "version": "3.11.0rc2"
  },
  "vscode": {
   "interpreter": {
    "hash": "e7370f93d1d0cde622a1f8e1c04877d8463912d04d973331ad4851f04de6915a"
   }
  }
 },
 "nbformat": 4,
 "nbformat_minor": 2
}
