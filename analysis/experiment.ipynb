{
 "cells": [
  {
   "cell_type": "markdown",
   "metadata": {},
   "source": [
    "# Experiment Notebook\n",
    "Notebook to inspect the results of a single experiment"
   ]
  },
  {
   "cell_type": "code",
   "execution_count": null,
   "metadata": {},
   "outputs": [],
   "source": [
    "# Imports\n",
    "import pandas as pd\n",
    "import pprint\n",
    "import matplotlib.pyplot as plt\n",
    "\n",
    "from collections import defaultdict\n",
    "\n",
    "\n",
    "from lib.metrics import *\n",
    "from lib.message import *\n",
    "from lib.analysis import *\n",
    "from lib.experiment import PubSubExperimentResults\n"
   ]
  },
  {
   "cell_type": "code",
   "execution_count": null,
   "metadata": {},
   "outputs": [],
   "source": [
    "EXPERIMENT = \"experiments/plumtree-config5.json\"\n"
   ]
  },
  {
   "cell_type": "code",
   "execution_count": null,
   "metadata": {},
   "outputs": [],
   "source": [
    "# Configure plot figure dpi\n",
    "plt.rcParams[\"figure.dpi\"] = 200\n"
   ]
  },
  {
   "cell_type": "code",
   "execution_count": null,
   "metadata": {},
   "outputs": [],
   "source": [
    "# Load results and display configuration\n",
    "\n",
    "experiment_results = PubSubExperimentResults.load_from_file(EXPERIMENT)\n",
    "exp = (\n",
    "    KadPubSubAnalyzer.from_experiment_results(experiment_results)\n",
    "    if \"kad\" in EXPERIMENT\n",
    "    else PubSubAnalyzer.from_experiment_results(experiment_results)\n",
    ")\n",
    "\n",
    "pprint.pprint(exp.experiment)\n"
   ]
  },
  {
   "cell_type": "code",
   "execution_count": null,
   "metadata": {},
   "outputs": [],
   "source": [
    "# Check experiment preconditions\n",
    "# exp.check_preconditions()"
   ]
  },
  {
   "cell_type": "code",
   "execution_count": null,
   "metadata": {},
   "outputs": [],
   "source": [
    "# Plot reliability over time\n",
    "exp.reliability().resample(\"20ms\").mean().fillna(method='bfill').plot(title=\"Reliability\")"
   ]
  },
  {
   "cell_type": "code",
   "execution_count": null,
   "metadata": {},
   "outputs": [],
   "source": [
    "# Plot reliability histogram\n",
    "exp.reliability().plot(kind=\"hist\", logy=True)"
   ]
  },
  {
   "cell_type": "code",
   "execution_count": null,
   "metadata": {},
   "outputs": [],
   "source": [
    "# Plot experiment events\n",
    "\n",
    "pd.DataFrame(\n",
    "    {\n",
    "        \"Message Sends\": pd.Series(\n",
    "            1, index=list(map(lambda m: m.timestamp, exp.metrics(ty=PubSubMessageSent)))\n",
    "        ),\n",
    "        \"Message Receives\": pd.Series(\n",
    "            1,\n",
    "            index=list(\n",
    "                map(lambda m: m.timestamp, exp.metrics(ty=PubSubMessageReceived))\n",
    "            ),\n",
    "        )\n",
    "        .groupby(level=0)\n",
    "        .sum(),\n",
    "        \"Node Boot Times\": pd.Series(\n",
    "            1, index=list(map(lambda m: m.timestamp, exp.metrics(ty=Boot)))\n",
    "        ),\n",
    "        \"Node Shutdown Times\": pd.Series(\n",
    "            1, index=list(map(lambda m: m.timestamp, exp.metrics(ty=Shutdown)))\n",
    "        ),\n",
    "        \"Node Subscriptions\": pd.Series(\n",
    "            1, index=list(map(lambda m: m.timestamp, exp.metrics(ty=PubSubSubscribe)))\n",
    "        ),\n",
    "    }\n",
    ").resample(\"1s\").sum().plot(logy=True)\n"
   ]
  },
  {
   "cell_type": "code",
   "execution_count": null,
   "metadata": {},
   "outputs": [],
   "source": [
    "# Plot publish latencies histogram\n",
    "exp.publish_latency().plot(kind=\"hist\", title=\"Publish Latencies\")\n"
   ]
  },
  {
   "cell_type": "code",
   "execution_count": null,
   "metadata": {},
   "outputs": [],
   "source": [
    "# Display redundancy and network usefullness\n",
    "print(f\"Redundancy: {exp.redundancy()}\")\n",
    "print(f\"Network usefullness: {exp.network_usage_efficiency_fraction()}\")\n"
   ]
  },
  {
   "cell_type": "code",
   "execution_count": null,
   "metadata": {},
   "outputs": [],
   "source": [
    "# Display graph of a message with reliability = 1\n",
    "def display_graph_of_message_with_reliability_1():\n",
    "    messages = [k for k, v in exp.messages_reliability().items() if v == 1.0]\n",
    "    if len(messages) == 0:\n",
    "        print(\"No message with reliability = 1\")\n",
    "        return\n",
    "    print(f\"Message UUID: {messages[0]}\")\n",
    "    return exp.message_graph(messages[0])\n",
    "\n",
    "\n",
    "display_graph_of_message_with_reliability_1()\n"
   ]
  },
  {
   "cell_type": "code",
   "execution_count": null,
   "metadata": {},
   "outputs": [],
   "source": [
    "# Display graph of a message with reliability < 1\n",
    "message_with_reliability_less_1 = None\n",
    "\n",
    "\n",
    "def display_graph_of_message_with_reliability_less_1():\n",
    "    messages = [k for k, v in exp.messages_reliability().items() if v < 1.0]\n",
    "    if len(messages) == 0:\n",
    "        print(\"No message with reliability < 1\")\n",
    "        return\n",
    "    print(f\"Message UUID: {messages[0]}\")\n",
    "    global message_with_reliability_less_1\n",
    "    message_with_reliability_less_1 = messages[0]\n",
    "    return exp.message_graph(messages[0])\n",
    "\n",
    "\n",
    "display_graph_of_message_with_reliability_less_1()\n"
   ]
  },
  {
   "cell_type": "code",
   "execution_count": null,
   "metadata": {},
   "outputs": [],
   "source": [
    "# Poor man's profiler\n",
    "\n",
    "spans = exp.metrics(ty=Span)\n",
    "span_names = set(map(lambda s: s.name, spans))\n",
    "span_timestamps = defaultdict(list)\n",
    "span_times = defaultdict(list)\n",
    "for span in spans:\n",
    "    span_timestamps[span.name].append(span.timestamp)\n",
    "    span_times[span.name].append(span.duration)\n",
    "span_series = {}\n",
    "for name in span_names:\n",
    "    span_series[name] = (\n",
    "        pd.Series(span_times[name], index=span_timestamps[name], name=name)\n",
    "        .groupby(level=0)\n",
    "        .sum()\n",
    "    )\n",
    "spans_available = len(span_series) > 0"
   ]
  },
  {
   "cell_type": "code",
   "execution_count": null,
   "metadata": {},
   "outputs": [],
   "source": [
    "# Span mean times over time\n",
    "\n",
    "if spans_available:\n",
    "    pd.DataFrame(span_series).resample(\"1s\").mean().plot(\n",
    "        title=\"Mean times\", logy=True\n",
    "    ).legend(bbox_to_anchor=(1.05, 1), loc=\"upper left\")\n"
   ]
  },
  {
   "cell_type": "code",
   "execution_count": null,
   "metadata": {},
   "outputs": [],
   "source": [
    "# Span mean times histogram\n",
    "\n",
    "if spans_available:\n",
    "    pd.Series({name: s.mean() for name, s in span_series.items()}).plot(\n",
    "        kind=\"bar\", title=\"Mean times\", logy=True, ylabel=\"Time (s)\"\n",
    "    ).legend(bbox_to_anchor=(1.05, 1), loc=\"upper left\")\n"
   ]
  },
  {
   "cell_type": "code",
   "execution_count": null,
   "metadata": {},
   "outputs": [],
   "source": [
    "# Span average total time per node\n",
    "\n",
    "if spans_available:\n",
    "    pd.Series(\n",
    "        {name: s.sum() / exp.experiment.number_nodes for name, s in span_series.items()}\n",
    "    ).plot(\n",
    "        kind=\"bar\", title=\"Average total time per node\", logy=True, ylabel=\"Time (s)\"\n",
    "    ).legend(\n",
    "        bbox_to_anchor=(1.05, 1), loc=\"upper left\"\n",
    "    )\n"
   ]
  },
  {
   "cell_type": "code",
   "execution_count": null,
   "metadata": {},
   "outputs": [],
   "source": [
    "# Average span count per node\n",
    "\n",
    "if spans_available:\n",
    "    pd.DataFrame(\n",
    "        {\n",
    "            name: pd.Series(1 / exp.experiment.number_nodes, index=s.index)\n",
    "            for name, s in span_series.items()\n",
    "        }\n",
    "    ).resample(\"1s\").sum().plot(title=\"Average span count per node\").legend(\n",
    "        bbox_to_anchor=(1.05, 1), loc=\"upper left\"\n",
    "    )\n"
   ]
  }
 ],
 "metadata": {
  "kernelspec": {
   "display_name": "Python 3.11.0rc2 64-bit",
   "language": "python",
   "name": "python3"
  },
  "language_info": {
   "codemirror_mode": {
    "name": "ipython",
    "version": 3
   },
   "file_extension": ".py",
   "mimetype": "text/x-python",
   "name": "python",
   "nbconvert_exporter": "python",
   "pygments_lexer": "ipython3",
   "version": "3.11.0"
  },
  "vscode": {
   "interpreter": {
    "hash": "e7370f93d1d0cde622a1f8e1c04877d8463912d04d973331ad4851f04de6915a"
   }
  }
 },
 "nbformat": 4,
 "nbformat_minor": 2
}
