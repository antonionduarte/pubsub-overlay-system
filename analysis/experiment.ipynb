{
 "cells": [
  {
   "cell_type": "markdown",
   "metadata": {},
   "source": [
    "# Experiment Notebook\n",
    "Notebook to inspect the results of a single experiment"
   ]
  },
  {
   "cell_type": "code",
   "execution_count": null,
   "metadata": {},
   "outputs": [],
   "source": [
    "import pandas as pd\n",
    "import graphviz\n",
    "import typing\n",
    "import pprint\n",
    "import matplotlib.pyplot as plt\n",
    "\n",
    "from collections import defaultdict\n",
    "\n",
    "\n",
    "from lib.metrics import *\n",
    "from lib.message import *\n",
    "from lib.analysis import *\n",
    "from lib.experiment import PubSubExperiment, PubSubExperimentResults\n",
    "\n",
    "EXPERIMENT = \"experiments/plumtree-quick.json\"\n",
    "# EXPERIMENT = \"experiments/kadpubsub-quick.json\"\n"
   ]
  },
  {
   "cell_type": "code",
   "execution_count": null,
   "metadata": {},
   "outputs": [],
   "source": [
    "experiment_results = PubSubExperimentResults.load_from_file(EXPERIMENT)\n",
    "exp = (\n",
    "    KadPubSubAnalyzer.from_experiment_results(experiment_results)\n",
    "    if \"kad\" in EXPERIMENT\n",
    "    else PubSubAnalyzer.from_experiment_results(experiment_results)\n",
    ")\n",
    "pprint.pprint(exp.experiment)\n"
   ]
  },
  {
   "cell_type": "code",
   "execution_count": null,
   "metadata": {},
   "outputs": [],
   "source": [
    "### Preconditions\n",
    "\n",
    "# First message was sent after the last subscription\n",
    "from lib.experiment import PROTOCOL_KADPUBSUB\n",
    "\n",
    "\n",
    "def check_first_message_after_last_subscription():\n",
    "    metrics = exp.metrics(ty=(PubSubMessageSent, PubSubSubscribe))\n",
    "    last_subscribe = {}\n",
    "    first_send = {}\n",
    "    for metric in metrics:\n",
    "        if isinstance(metric, PubSubSubscribe):\n",
    "            last_subscribe[metric.topic] = metric.timestamp\n",
    "        elif isinstance(metric, PubSubMessageSent):\n",
    "            if metric.topic not in first_send:\n",
    "                first_send[metric.topic] = metric.timestamp\n",
    "\n",
    "    for topic, timestamp in first_send.items():\n",
    "        if topic not in last_subscribe:\n",
    "            print(f\"Topic {topic} was never subscribed to\")\n",
    "            continue\n",
    "        if timestamp < last_subscribe[topic]:\n",
    "            raise Exception(f\"First message sent to {topic} before last subscription\")\n",
    "\n",
    "\n",
    "def check_dirty_topic_routing_tables():\n",
    "    if exp.experiment.protocol != PROTOCOL_KADPUBSUB:\n",
    "        return\n",
    "\n",
    "    for snapshot in exp.metrics(ty=RoutingTableSnapshot):\n",
    "        if snapshot.topic == \"\":\n",
    "            continue\n",
    "        subscribers = exp.topic_subscribers(snapshot.topic)\n",
    "        for node in [n for bucket in snapshot.buckets for n in bucket]:\n",
    "            if node not in subscribers:\n",
    "                raise Exception(\"You fucked up the routing tables, good job\")\n",
    "\n",
    "\n",
    "check_first_message_after_last_subscription()\n",
    "check_dirty_topic_routing_tables()\n"
   ]
  },
  {
   "cell_type": "code",
   "execution_count": null,
   "metadata": {},
   "outputs": [],
   "source": [
    "exp.reliability().resample(\"20ms\").mean().fillna(method='bfill').plot(title=\"Reliability\")\n"
   ]
  },
  {
   "cell_type": "code",
   "execution_count": null,
   "metadata": {},
   "outputs": [],
   "source": [
    "exp.reliability().plot(kind=\"hist\", logy=True)\n"
   ]
  },
  {
   "cell_type": "code",
   "execution_count": null,
   "metadata": {},
   "outputs": [],
   "source": [
    "pd.DataFrame(\n",
    "    {\n",
    "        \"Message Sends\": pd.Series(\n",
    "            1, index=list(map(lambda m: m.timestamp, exp.metrics(ty=PubSubMessageSent)))\n",
    "        ),\n",
    "        \"Message Receives\": pd.Series(\n",
    "            1,\n",
    "            index=list(\n",
    "                map(lambda m: m.timestamp, exp.metrics(ty=PubSubMessageReceived))\n",
    "            ),\n",
    "        )\n",
    "        .groupby(level=0)\n",
    "        .sum(),\n",
    "        \"Node Boot Times\": pd.Series(\n",
    "            1, index=list(map(lambda m: m.timestamp, exp.metrics(ty=Boot)))\n",
    "        ),\n",
    "        \"Node Shutdown Times\": pd.Series(\n",
    "            1, index=list(map(lambda m: m.timestamp, exp.metrics(ty=Shutdown)))\n",
    "        ),\n",
    "        \"Node Subscriptions\": pd.Series(\n",
    "            1, index=list(map(lambda m: m.timestamp, exp.metrics(ty=PubSubSubscribe)))\n",
    "        ),\n",
    "    }\n",
    ").resample(\"1s\").sum().plot(logy=True)\n"
   ]
  },
  {
   "cell_type": "code",
   "execution_count": null,
   "metadata": {},
   "outputs": [],
   "source": [
    "exp.publish_latency().plot(kind=\"hist\", title=\"Publish Latencies\")\n"
   ]
  },
  {
   "cell_type": "code",
   "execution_count": null,
   "metadata": {},
   "outputs": [],
   "source": [
    "print(f\"Redundancy: {exp.redundancy()}\")\n"
   ]
  },
  {
   "cell_type": "code",
   "execution_count": null,
   "metadata": {},
   "outputs": [],
   "source": [
    "print(f\"Network usefullness fraction: {exp.network_usage_usefullness_fraction()}\")"
   ]
  },
  {
   "cell_type": "code",
   "execution_count": null,
   "metadata": {},
   "outputs": [],
   "source": [
    "for snapshot in exp.metrics(ty=RoutingTableSnapshot):\n",
    "    if snapshot.topic == \"\":\n",
    "        continue\n",
    "    subscribers = exp.topic_subscribers(snapshot.topic)\n",
    "    for node in [n for bucket in snapshot.buckets for n in bucket]:\n",
    "        if node not in subscribers:\n",
    "            raise Exception(\"You fucked up the routing tables, good job\")\n"
   ]
  },
  {
   "cell_type": "code",
   "execution_count": null,
   "metadata": {},
   "outputs": [],
   "source": [
    "# Graph of message with reliability 1\n",
    "graph = None\n",
    "try:\n",
    "    reliability_1 = [k for k, v in exp.messages_reliability().items() if v == 1.0][0]\n",
    "    graph = exp.message_graph(reliability_1)\n",
    "except:\n",
    "    print(\"No message with reliability 1\")\n",
    "graph\n"
   ]
  },
  {
   "cell_type": "code",
   "execution_count": null,
   "metadata": {},
   "outputs": [],
   "source": [
    "# Graph of message with reliability < 1\n",
    "graph = None\n",
    "message_id = None\n",
    "try:\n",
    "    message_id = sorted(\n",
    "        [(k, v) for k, v in exp.messages_reliability().items() if v < 1],\n",
    "        key=lambda t: t[1],\n",
    "    )[0][0]\n",
    "    print(\n",
    "        f\"Message {message_id} has reliability {exp.messages_reliability()[message_id]}\"\n",
    "    )\n",
    "    graph = exp.message_graph(message_id)\n",
    "except IndexError:\n",
    "    print(\"No message with reliability < 1\")\n",
    "graph\n"
   ]
  },
  {
   "cell_type": "code",
   "execution_count": null,
   "metadata": {},
   "outputs": [],
   "source": [
    "delivers = exp.metrics(ty=PubSubMessageReceived, filter=lambda m: m.message_id == message_id and m.delivered)\n",
    "delivers"
   ]
  },
  {
   "cell_type": "code",
   "execution_count": null,
   "metadata": {},
   "outputs": [],
   "source": [
    "# Ignora isto\n",
    "# message = message_id\n",
    "# message_timestamp = exp.timestamp_of_message(message)\n",
    "# message_send = exp.metrics(\n",
    "#     ty=PubSubMessageSent, filter=lambda m: m.message_id == message\n",
    "# )[0]\n",
    "# message_receives = exp.metrics(\n",
    "#     ty=PubSubMessageReceived, filter=lambda m: m.message_id == message\n",
    "# )\n",
    "# topic = exp.topic_of_message(message)\n",
    "# subscribers = exp.topic_subscribers(topic)\n",
    "# assert all(map(lambda m: m.node in subscribers, message_receives))\n",
    "# snapshots = exp.routing_table_snapshot(subscribers, topic, message_timestamp)\n",
    "# missing_nodes = subscribers - set(map(lambda m: m.node, message_receives))"
   ]
  },
  {
   "cell_type": "code",
   "execution_count": null,
   "metadata": {},
   "outputs": [],
   "source": []
  }
 ],
 "metadata": {
  "kernelspec": {
   "display_name": "Python 3.11.0rc2 64-bit",
   "language": "python",
   "name": "python3"
  },
  "language_info": {
   "codemirror_mode": {
    "name": "ipython",
    "version": 3
   },
   "file_extension": ".py",
   "mimetype": "text/x-python",
   "name": "python",
   "nbconvert_exporter": "python",
   "pygments_lexer": "ipython3",
   "version": "3.11.0"
  },
  "vscode": {
   "interpreter": {
    "hash": "e7370f93d1d0cde622a1f8e1c04877d8463912d04d973331ad4851f04de6915a"
   }
  }
 },
 "nbformat": 4,
 "nbformat_minor": 2
}
