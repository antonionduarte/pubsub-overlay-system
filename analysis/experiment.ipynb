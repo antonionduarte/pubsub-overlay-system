{
 "cells": [
  {
   "cell_type": "markdown",
   "metadata": {},
   "source": [
    "# Experiment Notebook\n",
    "Notebook to inspect the results of a single experiment"
   ]
  },
  {
   "cell_type": "code",
   "execution_count": null,
   "metadata": {},
   "outputs": [],
   "source": [
    "import pandas as pd\n",
    "import graphviz\n",
    "import typing\n",
    "\n",
    "from collections import defaultdict\n",
    "\n",
    "\n",
    "from lib.metrics2 import *\n",
    "from lib.message import *\n",
    "from lib.analysis import KadPubSubAnalyzer\n",
    "from lib.experiment import PubSubExperiment, PubSubExperimentResults\n"
   ]
  },
  {
   "cell_type": "code",
   "execution_count": null,
   "metadata": {},
   "outputs": [],
   "source": [
    "experiment_results = PubSubExperimentResults.load_from_file(\n",
    "    \"experiments/experiment_3_v2_flood.json\"\n",
    ")\n",
    "exp = KadPubSubAnalyzer.from_experiment_results(experiment_results)\n",
    "exp.experiment\n"
   ]
  },
  {
   "cell_type": "code",
   "execution_count": null,
   "metadata": {},
   "outputs": [],
   "source": []
  },
  {
   "cell_type": "code",
   "execution_count": null,
   "metadata": {},
   "outputs": [],
   "source": [
    "exp.messages()\n"
   ]
  },
  {
   "cell_type": "code",
   "execution_count": null,
   "metadata": {},
   "outputs": [],
   "source": [
    "receives = exp.metrics_with(lambda m: isinstance(m, PubSubMessageReceived))\n",
    "messages = exp.messages()\n",
    "message_receive_counts = {\n",
    "    m: len([r for r in receives if r.message_id == m]) for m in messages\n",
    "}\n",
    "message_receive_counts = {\n",
    "    item for item in message_receive_counts.items() if item[1] >= 1\n",
    "}\n",
    "message_receive_counts\n"
   ]
  },
  {
   "cell_type": "code",
   "execution_count": null,
   "metadata": {},
   "outputs": [],
   "source": [
    "msgid = list(exp.messages())[0]  # \"947381e5-d811-4e11-9e39-f515a0132aa3\"\n",
    "topic = exp.topic_of_message(msgid)\n",
    "subscribers = exp.topic_subscribers(topic)\n",
    "broadcasts = exp.metrics_with(\n",
    "    lambda m: isinstance(m, MessageSent)\n",
    "    and isinstance(m.message, BroadcastMessage)\n",
    "    and m.message.topic == topic\n",
    "    and m.message.message_id == msgid\n",
    ")\n",
    "haves = exp.metrics_with(\n",
    "    lambda m: isinstance(m, MessageSent)\n",
    "    and isinstance(m.message, BroadcastHave)\n",
    "    and m.message.topic == topic\n",
    "    and m.message.message_id == msgid\n",
    ")\n",
    "wanthaves = exp.metrics_with(\n",
    "    lambda m: isinstance(m, MessageSent)\n",
    "    and isinstance(m.message, BroadcastWant)\n",
    "    and m.message.topic == topic\n",
    "    and m.message.message_id == msgid\n",
    ")\n",
    "sends = exp.metrics_with(\n",
    "    lambda m: isinstance(m, PubSubMessageSent) and m.message_id == msgid\n",
    ")\n",
    "\n",
    "dot = graphviz.Digraph(\"Message Broadcast Tree\")\n",
    "dot.node(broadcasts[0].node)\n",
    "for sub in subscribers:\n",
    "    dot.node(sub)\n",
    "for bcast in broadcasts:\n",
    "    dot.edge(bcast.node, bcast.destination, color=\"green\")\n",
    "for have in haves:\n",
    "    dot.edge(have.node, have.destination, color=\"blue\")\n",
    "for wanthave in wanthaves:\n",
    "    dot.edge(wanthave.node, wanthave.destination, color=\"red\")\n",
    "\n",
    "print(\n",
    "    f\"First sender of message {msgid} was {broadcasts[0].node} with subscription {broadcasts[0].node in subscribers}\"\n",
    ")\n",
    "print(f\"Topic has {len(subscribers)} subscribers\")\n",
    "dot\n"
   ]
  },
  {
   "cell_type": "code",
   "execution_count": null,
   "metadata": {},
   "outputs": [],
   "source": [
    "# rt = exp.routing_table_snapshot(\"5000\", topic, exp.timestamp_of_message(msgid))\n",
    "# print(f\"Routing table node: {rt.node}\")\n",
    "# print(f\"Routing table topic: {rt.topic}\")\n",
    "# print(\"Buckets:\")\n",
    "# for bucket in rt.buckets:\n",
    "#     print(f\"  {bucket}\")\n"
   ]
  },
  {
   "cell_type": "code",
   "execution_count": null,
   "metadata": {},
   "outputs": [],
   "source": [
    "delivers = exp.metrics_with(\n",
    "    lambda m: isinstance(m, PubSubMessageReceived)\n",
    "    and m.message_id == msgid\n",
    "    and m.delivered\n",
    ")\n",
    "print(f\"Message {msgid} was delivered to {len(delivers)} nodes\")\n",
    "print(f\"Message was initially sent by {broadcasts[0].node}\")\n",
    "print(\n",
    "    f\"Message was not delivered to {subscribers - set(map(lambda m: m.node, delivers))}\"\n",
    ")\n"
   ]
  },
  {
   "cell_type": "code",
   "execution_count": null,
   "metadata": {},
   "outputs": [],
   "source": [
    "exp.reliability().resample(\"1s\").mean().plot()\n"
   ]
  },
  {
   "cell_type": "code",
   "execution_count": null,
   "metadata": {},
   "outputs": [],
   "source": [
    "exp.reliability().plot(kind=\"hist\")\n"
   ]
  },
  {
   "cell_type": "code",
   "execution_count": null,
   "metadata": {},
   "outputs": [],
   "source": [
    "dot = graphviz.Digraph(\"Identifier Space\")\n",
    "depth = 6\n",
    "for i in range(depth):\n",
    "    n = 2**i\n",
    "    subdot = graphviz.Digraph()\n",
    "    for j in range(n):\n",
    "        parent_label = f\"{i-1}-{j//2}\"\n",
    "        label = \"\" if i != depth - 1 else f\"{j}\"\n",
    "        subdot.node(f\"{i}-{j}\", label=label, level=f\"{i}\")\n",
    "        if not (i == 0 and j == 0):\n",
    "            dot.edge(parent_label, f\"{i}-{j}\")\n",
    "    subdot.attr(rank=\"same\")\n",
    "    dot.subgraph(subdot)\n",
    "dot\n"
   ]
  }
 ],
 "metadata": {
  "kernelspec": {
   "display_name": "Python 3.11.0rc2 64-bit",
   "language": "python",
   "name": "python3"
  },
  "language_info": {
   "codemirror_mode": {
    "name": "ipython",
    "version": 3
   },
   "file_extension": ".py",
   "mimetype": "text/x-python",
   "name": "python",
   "nbconvert_exporter": "python",
   "pygments_lexer": "ipython3",
   "version": "3.11.0rc2"
  },
  "vscode": {
   "interpreter": {
    "hash": "e7370f93d1d0cde622a1f8e1c04877d8463912d04d973331ad4851f04de6915a"
   }
  }
 },
 "nbformat": 4,
 "nbformat_minor": 2
}
