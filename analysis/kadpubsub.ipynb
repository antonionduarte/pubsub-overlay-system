{
 "cells": [
  {
   "cell_type": "code",
   "execution_count": null,
   "metadata": {},
   "outputs": [],
   "source": [
    "# Imports\n",
    "import pandas as pd\n",
    "import pprint\n",
    "import matplotlib.pyplot as plt\n",
    "import math\n",
    "import os\n",
    "\n",
    "from collections import defaultdict\n",
    "\n",
    "\n",
    "from lib.metrics import *\n",
    "from lib.message import *\n",
    "from lib.analysis import *\n",
    "from lib.experiment import PubSubExperimentResults\n"
   ]
  },
  {
   "cell_type": "code",
   "execution_count": null,
   "metadata": {},
   "outputs": [],
   "source": [
    "colors = [\n",
    "    \"green\",\n",
    "    \"blue\",\n",
    "    \"red\",\n",
    "    \"orange\",\n",
    "    \"purple\",\n",
    "    \"brown\",\n",
    "    \"pink\",\n",
    "    \"gray\",\n",
    "    \"olive\",\n",
    "    \"cyan\",\n",
    "]\n",
    "\n",
    "dot = graphviz.Digraph(\"Binary Tree\")\n",
    "dot.attr(nodesep=\"0.1\", ranksep=\"0.2\", margin=\"0.05\")\n",
    "# dot.attr(\"node\", shape=\"circle\", fixedsize=\"true\", width=\"0.3\")\n",
    "dot.attr(\"edge\", arrowhead=\"none\")\n",
    "dot.attr(\"graph\", ordering=\"out\")\n",
    "dot.attr(rankdir=\"BT\")\n",
    "\n",
    "focus = \"001010\"\n",
    "tree_depth = len(focus)\n",
    "tree_node_count = sum([2**i for i in range(tree_depth)])\n",
    "for i in range(tree_node_count):\n",
    "    group = math.floor(math.log2(max(i, 1) + 1))\n",
    "    is_leaf = group == tree_depth - 1\n",
    "    leaf_id = i - 2 ** (tree_depth - 1) + 1\n",
    "    leaf_id_str = f\"{leaf_id:08b}\"[8 - tree_depth :]\n",
    "    cpl = max([i for i in range(len(focus)) if leaf_id_str.startswith(focus[: i + 1])])\n",
    "    width = 0.3 if is_leaf else 0.1\n",
    "    shape = \"circle\" if is_leaf else \"point\"\n",
    "    label = f\"{leaf_id}\" if is_leaf else \"\"\n",
    "    color = colors[cpl % len(colors)] if is_leaf else \"black\"\n",
    "    style = \"filled\" if leaf_id_str == focus else \"\"\n",
    "    dot.node(\n",
    "        f\"{i}\",\n",
    "        str(i),\n",
    "        group=f\"{group}\",\n",
    "        width=f\"{width}\",\n",
    "        fixedsize=\"true\",\n",
    "        shape=shape,\n",
    "        color=color,\n",
    "        style=style,\n",
    "    )\n",
    "for i in range(tree_node_count):\n",
    "    if i > 0:\n",
    "        dot.edge(f\"{i}\", f\"{(i-1)//2}\", weight=\"1\")\n",
    "\n",
    "try:\n",
    "    os.remove(\"plots/kadpubsub-tree.pdf\")\n",
    "except:\n",
    "    pass\n",
    "dot.render(outfile=\"plots/kadpubsub-tree.pdf\")\n"
   ]
  }
 ],
 "metadata": {
  "kernelspec": {
   "display_name": "Python 3.11.0 64-bit",
   "language": "python",
   "name": "python3"
  },
  "language_info": {
   "codemirror_mode": {
    "name": "ipython",
    "version": 3
   },
   "file_extension": ".py",
   "mimetype": "text/x-python",
   "name": "python",
   "nbconvert_exporter": "python",
   "pygments_lexer": "ipython3",
   "version": "3.11.0"
  },
  "vscode": {
   "interpreter": {
    "hash": "e7370f93d1d0cde622a1f8e1c04877d8463912d04d973331ad4851f04de6915a"
   }
  }
 },
 "nbformat": 4,
 "nbformat_minor": 2
}
