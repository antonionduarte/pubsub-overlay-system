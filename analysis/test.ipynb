{
 "cells": [
  {
   "cell_type": "code",
   "execution_count": null,
   "metadata": {},
   "outputs": [],
   "source": [
    "import pandas as pd\n",
    "import graphviz\n",
    "import typing\n",
    "import matplotlib.pyplot as plt\n",
    "\n",
    "from collections import defaultdict\n",
    "\n",
    "\n",
    "from lib.metrics import *\n",
    "from lib.message import *\n",
    "from lib.analysis import PubSubAnalyzer\n",
    "from lib.experiment import PubSubExperiment, PubSubExperimentResults\n",
    "\n",
    "\n",
    "exp = PubSubAnalyzer.from_experiment_results(\n",
    "    PubSubExperimentResults.load_from_file(\"experiments/kadpubsub-config1.json\")\n",
    ")\n",
    "exp2 = PubSubAnalyzer.from_experiment_results(\n",
    "    PubSubExperimentResults.load_from_file(\"experiments/gossipsub-config1.json\")\n",
    ")\n",
    "exp3 = PubSubAnalyzer.from_experiment_results(\n",
    "    PubSubExperimentResults.load_from_file(\"experiments/plumtree-config1.json\")\n",
    ")\n"
   ]
  },
  {
   "cell_type": "code",
   "execution_count": null,
   "metadata": {},
   "outputs": [],
   "source": [
    "from typing import Dict\n",
    "\n",
    "\n",
    "class PubSubPlotter:\n",
    "    def __init__(self, experiments: Dict[str, PubSubAnalyzer]):\n",
    "        self._experiments = experiments\n",
    "\n",
    "    def redundancy(self):\n",
    "        fig, ax = plt.subplots()\n",
    "        for i, (name, exp) in enumerate(self._experiments.items()):\n",
    "            exp_redundancy = exp.redundancy()\n",
    "            ax.bar(name, exp_redundancy, label=\"Redundant Messages\", color=\"red\")\n",
    "            ax.text(\n",
    "                i,\n",
    "                exp_redundancy / 2,\n",
    "                \"{0:.1f}%\".format(exp_redundancy * 100),\n",
    "                color=\"white\",\n",
    "                ha=\"center\",\n",
    "                va=\"center\",\n",
    "                fontweight=\"bold\",\n",
    "            )\n",
    "            ax.bar(\n",
    "                name,\n",
    "                1 - exp_redundancy,\n",
    "                bottom=exp_redundancy,\n",
    "                label=\"Relevant Messages\",\n",
    "                color=\"green\",\n",
    "            )\n",
    "            ax.text(\n",
    "                i,\n",
    "                exp_redundancy + (1 - exp_redundancy) / 2,\n",
    "                \"{0:.1f}%\".format((1 - exp_redundancy) * 100),\n",
    "                color=\"white\",\n",
    "                ha=\"center\",\n",
    "                va=\"center\",\n",
    "                fontweight=\"bold\",\n",
    "            )\n",
    "        ax.set(xlabel=\"Configuration\", ylabel=\"Redundancy\", ylim=(0, 1.05))\n",
    "        fig.tight_layout()\n",
    "        return fig\n",
    "\n",
    "    def reliability(self):\n",
    "        reliabilities = pd.DataFrame(\n",
    "            {\n",
    "                name: exp.reliability()[\"reliability\"].resample(\"1s\").mean()\n",
    "                for name, exp in self._experiments.items()\n",
    "            }\n",
    "        )\n",
    "        return reliabilities.fillna(method=\"bfill\").fillna(0).plot(title=\"Reliability\")\n",
    "\n",
    "\n",
    "ploter = PubSubPlotter({\"KadPubSub\": exp, \"GossipSub\": exp2, \"Plumtree\": exp3})\n",
    "\n",
    "ploter.reliability().figure.savefig('reliability.pdf', dpi=600)\n"
   ]
  }
 ],
 "metadata": {
  "kernelspec": {
   "display_name": "Python 3.11.0rc2 64-bit",
   "language": "python",
   "name": "python3"
  },
  "language_info": {
   "codemirror_mode": {
    "name": "ipython",
    "version": 3
   },
   "file_extension": ".py",
   "mimetype": "text/x-python",
   "name": "python",
   "nbconvert_exporter": "python",
   "pygments_lexer": "ipython3",
   "version": "3.11.0rc2"
  },
  "vscode": {
   "interpreter": {
    "hash": "e7370f93d1d0cde622a1f8e1c04877d8463912d04d973331ad4851f04de6915a"
   }
  }
 },
 "nbformat": 4,
 "nbformat_minor": 2
}
